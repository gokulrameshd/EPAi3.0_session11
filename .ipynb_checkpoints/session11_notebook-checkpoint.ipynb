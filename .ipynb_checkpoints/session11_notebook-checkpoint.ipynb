{
 "cells": [
  {
   "cell_type": "code",
   "execution_count": 1,
   "metadata": {},
   "outputs": [],
   "source": [
    "#import necessary modules\n",
    "from math import *\n",
    "from objective1 import *\n",
    "from objective2 import *"
   ]
  },
  {
   "cell_type": "markdown",
   "metadata": {},
   "source": [
    "### Testing the Polygon class"
   ]
  },
  {
   "cell_type": "code",
   "execution_count": 2,
   "metadata": {},
   "outputs": [],
   "source": [
    "#Creating a polygon class\n",
    "polygon1 = polygon(n =5 , r =10) # the initializer takes in  \n",
    "polygon2 = polygon(n =4 , r =10)"
   ]
  },
  {
   "cell_type": "code",
   "execution_count": 3,
   "metadata": {},
   "outputs": [
    {
     "name": "stdout",
     "output_type": "stream",
     "text": [
      "No of edges    : 5\n",
      "No of vertices : 5\n",
      "Edge_length    : 11.755705045849464\n",
      "Interior_angle : 108.0\n",
      "Apothem        : 8.090169943749475\n",
      "Perimeter      : 58.77852522924732\n",
      "Area           : 237.76412907378844\n"
     ]
    }
   ],
   "source": [
    "\n",
    "print(f\"No of edges    : {polygon1.edges}\")\n",
    "print(f\"No of vertices : {polygon1.vertices}\")\n",
    "print(f\"Edge_length    : {polygon1.edge_length}\")\n",
    "print(f\"Interior_angle : {polygon1.interior_angle}\")\n",
    "print(f\"Apothem        : {polygon1.apothem}\")\n",
    "print(f\"Perimeter      : {polygon1.perimeter}\")\n",
    "print(f\"Area           : {polygon1.area}\")\n"
   ]
  },
  {
   "cell_type": "code",
   "execution_count": 4,
   "metadata": {},
   "outputs": [
    {
     "name": "stdout",
     "output_type": "stream",
     "text": [
      "No of sides :5 , Radius : 10\n"
     ]
    }
   ],
   "source": [
    "# Testing the __repr__ function\n",
    "print(polygon1.__repr__())"
   ]
  },
  {
   "cell_type": "code",
   "execution_count": 5,
   "metadata": {},
   "outputs": [
    {
     "data": {
      "text/plain": [
       "False"
      ]
     },
     "execution_count": 5,
     "metadata": {},
     "output_type": "execute_result"
    }
   ],
   "source": [
    "# Testing the __eq__ function\n",
    "polygon1 == polygon2"
   ]
  },
  {
   "cell_type": "code",
   "execution_count": 6,
   "metadata": {},
   "outputs": [
    {
     "data": {
      "text/plain": [
       "True"
      ]
     },
     "execution_count": 6,
     "metadata": {},
     "output_type": "execute_result"
    }
   ],
   "source": [
    "# Testing the __gt__ function\n",
    "polygon1 > polygon2"
   ]
  },
  {
   "cell_type": "markdown",
   "metadata": {},
   "source": [
    "### Testing the Polygons sequence & iterator class"
   ]
  },
  {
   "cell_type": "code",
   "execution_count": 7,
   "metadata": {},
   "outputs": [],
   "source": [
    "poly_seq = polygons_sequence(n = 25 , r =100)"
   ]
  },
  {
   "cell_type": "code",
   "execution_count": 8,
   "metadata": {},
   "outputs": [
    {
     "name": "stdout",
     "output_type": "stream",
     "text": [
      "Polygon which is maximum_efficient : No of sides :25 , Radius : 100\n"
     ]
    }
   ],
   "source": [
    "print(f'Polygon which is maximum_efficient : {poly_seq.maximum_efficient_polygon}')"
   ]
  },
  {
   "cell_type": "code",
   "execution_count": 9,
   "metadata": {},
   "outputs": [
    {
     "name": "stdout",
     "output_type": "stream",
     "text": [
      "Polygon sequence of 23 polygons\n"
     ]
    }
   ],
   "source": [
    "# Testing the __repr__ function\n",
    "print(poly_seq.__repr__())"
   ]
  },
  {
   "cell_type": "code",
   "execution_count": 10,
   "metadata": {},
   "outputs": [
    {
     "name": "stdout",
     "output_type": "stream",
     "text": [
      "23\n"
     ]
    }
   ],
   "source": [
    "# Testing the __len__ function\n",
    "print(poly_seq.__len__())"
   ]
  },
  {
   "cell_type": "code",
   "execution_count": 11,
   "metadata": {},
   "outputs": [
    {
     "data": {
      "text/plain": [
       "No of sides :8 , Radius : 100"
      ]
     },
     "execution_count": 11,
     "metadata": {},
     "output_type": "execute_result"
    }
   ],
   "source": [
    "# Testing the __getitem__ function\n",
    "poly_seq.__getitem__(5)"
   ]
  },
  {
   "cell_type": "code",
   "execution_count": 12,
   "metadata": {},
   "outputs": [],
   "source": [
    "p_list = []\n",
    "for i in range(3,10):\n",
    "    p = polygon(n =i , r =10)\n",
    "    p_list.append(p)"
   ]
  },
  {
   "cell_type": "code",
   "execution_count": 13,
   "metadata": {},
   "outputs": [],
   "source": [
    "\n",
    "pl = [polygon(n =i , r =10) for i in range(3,10)]\n",
    "    "
   ]
  },
  {
   "cell_type": "code",
   "execution_count": 14,
   "metadata": {},
   "outputs": [
    {
     "data": {
      "text/plain": [
       "2.5000000000000004"
      ]
     },
     "execution_count": 14,
     "metadata": {},
     "output_type": "execute_result"
    }
   ],
   "source": [
    "pl[0].area/pl[0].perimeter"
   ]
  },
  {
   "cell_type": "code",
   "execution_count": 15,
   "metadata": {},
   "outputs": [
    {
     "name": "stdout",
     "output_type": "stream",
     "text": [
      "4\n",
      "6\n",
      "8\n"
     ]
    }
   ],
   "source": [
    "l = [2,3,4]\n",
    "for i in l :\n",
    "    c = i*2\n",
    "    print(c)"
   ]
  },
  {
   "cell_type": "code",
   "execution_count": 16,
   "metadata": {},
   "outputs": [
    {
     "data": {
      "text/plain": [
       "[2, 3, 4, 2, 3, 4]"
      ]
     },
     "execution_count": 16,
     "metadata": {},
     "output_type": "execute_result"
    }
   ],
   "source": [
    "f = lambda x : x*2\n",
    "f(l)"
   ]
  },
  {
   "cell_type": "code",
   "execution_count": 17,
   "metadata": {},
   "outputs": [],
   "source": [
    "m = lambda p:p.area/p.perimeter"
   ]
  },
  {
   "cell_type": "code",
   "execution_count": 18,
   "metadata": {},
   "outputs": [
    {
     "name": "stdout",
     "output_type": "stream",
     "text": [
      "25.000000000000007\n",
      "35.35533905932738\n",
      "40.45084971874737\n",
      "43.30127018922194\n",
      "45.048443395120955\n",
      "46.19397662556434\n",
      "46.98463103929542\n",
      "47.552825814757675\n",
      "47.97464868072487\n",
      "48.29629131445341\n",
      "48.5470908713026\n",
      "48.74639560909118\n",
      "48.907380036690284\n",
      "49.039264020161525\n",
      "49.14865498419509\n",
      "49.2403876506104\n",
      "49.318065170136116\n",
      "49.38441702975689\n",
      "49.44154131125643\n",
      "49.491072094046636\n",
      "49.53429730181654\n",
      "49.57224306869052\n",
      "49.60573506572389\n"
     ]
    }
   ],
   "source": [
    "for p in poly_seq:\n",
    "    print(m(p))"
   ]
  },
  {
   "cell_type": "markdown",
   "metadata": {},
   "source": [
    "### Testing for iterator"
   ]
  },
  {
   "cell_type": "code",
   "execution_count": 25,
   "metadata": {},
   "outputs": [],
   "source": [
    "our_iterator = polygons_sequence(n = 25 , r =100)"
   ]
  },
  {
   "cell_type": "code",
   "execution_count": 26,
   "metadata": {},
   "outputs": [
    {
     "data": {
      "text/plain": [
       "Polygon sequence of 23 polygons"
      ]
     },
     "execution_count": 26,
     "metadata": {},
     "output_type": "execute_result"
    }
   ],
   "source": [
    "our_iterator"
   ]
  },
  {
   "cell_type": "code",
   "execution_count": 27,
   "metadata": {},
   "outputs": [
    {
     "data": {
      "text/plain": [
       "No of sides :3 , Radius : 100"
      ]
     },
     "execution_count": 27,
     "metadata": {},
     "output_type": "execute_result"
    }
   ],
   "source": [
    "#Cheching whether __next__ is working or not\n",
    "next(our_iterator)"
   ]
  },
  {
   "cell_type": "code",
   "execution_count": 29,
   "metadata": {},
   "outputs": [
    {
     "name": "stdout",
     "output_type": "stream",
     "text": [
      "No of sides :9 , Radius : 100\n",
      "No of sides :10 , Radius : 100\n",
      "No of sides :11 , Radius : 100\n",
      "No of sides :12 , Radius : 100\n",
      "No of sides :13 , Radius : 100\n"
     ]
    }
   ],
   "source": [
    "for i in range(5):\n",
    "    print(next(our_iterator))"
   ]
  },
  {
   "cell_type": "code",
   "execution_count": null,
   "metadata": {},
   "outputs": [],
   "source": []
  }
 ],
 "metadata": {
  "kernelspec": {
   "display_name": "Python 3",
   "language": "python",
   "name": "python3"
  },
  "language_info": {
   "codemirror_mode": {
    "name": "ipython",
    "version": 3
   },
   "file_extension": ".py",
   "mimetype": "text/x-python",
   "name": "python",
   "nbconvert_exporter": "python",
   "pygments_lexer": "ipython3",
   "version": "3.6.5"
  }
 },
 "nbformat": 4,
 "nbformat_minor": 2
}
